{
 "cells": [
  {
   "cell_type": "code",
   "execution_count": 2,
   "metadata": {},
   "outputs": [
    {
     "name": "stdout",
     "output_type": "stream",
     "text": [
      "   unnamed:_0.1  unnamed:_0     restaurant_name restaurant_type  \\\n",
      "0             0           0        #FeelTheROLL     Quick Bites   \n",
      "1             1           1          #L-81 Cafe     Quick Bites   \n",
      "2             2           2             #refuel            Cafe   \n",
      "3             3           3  '@ Biryani Central   Casual Dining   \n",
      "4             4           4          '@ The Bbq   Casual Dining   \n",
      "\n",
      "   rate_(out_of_5)  num_of_ratings  avg_cost_(two_people)  online_order  \\\n",
      "0              3.4               7                  200.0             0   \n",
      "1              3.9              48                  400.0             1   \n",
      "2              3.7              37                  400.0             1   \n",
      "3              2.7             135                  550.0             1   \n",
      "4              2.8              40                  700.0             1   \n",
      "\n",
      "   table_booking                                      cuisines_type  \\\n",
      "0              0                                          Fast Food   \n",
      "1              0                               Fast Food, Beverages   \n",
      "2              0                                    Cafe, Beverages   \n",
      "3              0                          Biryani, Mughlai, Chinese   \n",
      "4              0  BBQ, Continental, North Indian, Chinese, Bever...   \n",
      "\n",
      "                             area      local_address  restaurant_name_length  \\\n",
      "0                       Bellandur          Bellandur                      12   \n",
      "1  Byresandra,Tavarekere,Madiwala                HSR                      10   \n",
      "2               Bannerghatta Road  Bannerghatta Road                       7   \n",
      "3                    Marathahalli       Marathahalli                      18   \n",
      "4                       Bellandur          Bellandur                      10   \n",
      "\n",
      "   local_address_length  \n",
      "0                     9  \n",
      "1                     3  \n",
      "2                    17  \n",
      "3                    12  \n",
      "4                     9  \n"
     ]
    }
   ],
   "source": [
    "import pandas as pd\n",
    "\n",
    "def extract_features(data):\n",
    "    \"\"\"Extract additional features like name and address length.\"\"\"\n",
    "    data['restaurant_name_length'] = data['restaurant_name'].apply(len)\n",
    "    data['local_address_length'] = data['local_address'].apply(len)\n",
    "    return data\n",
    "\n",
    "def encode_categorical_variables(data):\n",
    "    \"\"\"Convert categorical variables into numerical representations.\"\"\"\n",
    "    data['table_booking'] = data['table_booking'].map({'Yes': 1, 'No': 0})\n",
    "    data['online_order'] = data['online_order'].map({'Yes': 1, 'No': 0})\n",
    "    return data\n",
    "\n",
    "def main():\n",
    "    \"\"\"Load, process, and display the dataset.\"\"\"\n",
    "    file_path = \"zomato.csv\"  # Ensure the correct path\n",
    "    data = pd.read_csv(file_path)\n",
    "\n",
    "    # Standardize column names\n",
    "    data.columns = [col.strip().lower().replace(' ', '_') for col in data.columns]\n",
    "\n",
    "    # Perform feature engineering\n",
    "    data = extract_features(data)\n",
    "    data = encode_categorical_variables(data)\n",
    "\n",
    "    # Print the first few rows to verify changes\n",
    "    print(data.head())\n",
    "\n",
    "if __name__ == \"__main__\":\n",
    "    main()\n"
   ]
  }
 ],
 "metadata": {
  "kernelspec": {
   "display_name": "Python 3",
   "language": "python",
   "name": "python3"
  },
  "language_info": {
   "codemirror_mode": {
    "name": "ipython",
    "version": 3
   },
   "file_extension": ".py",
   "mimetype": "text/x-python",
   "name": "python",
   "nbconvert_exporter": "python",
   "pygments_lexer": "ipython3",
   "version": "3.10.12"
  },
  "orig_nbformat": 4
 },
 "nbformat": 4,
 "nbformat_minor": 2
}
